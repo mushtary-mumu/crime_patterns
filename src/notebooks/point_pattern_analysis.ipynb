{
 "cells": [
  {
   "cell_type": "code",
   "execution_count": 1,
   "metadata": {},
   "outputs": [],
   "source": [
    "import numpy as np\n",
    "import pandas as pd\n",
    "import geopandas as gpd\n",
    "import matplotlib.pyplot as plt\n",
    "from os.path import join\n",
    "import os\n",
    "import xarray as xr\n",
    "\n",
    "import crime_patterns.utilities as utils\n",
    "import crime_patterns.config as config\n",
    "import crime_patterns.data_management as dm\n",
    "\n",
    "from crime_patterns.final import plotting\n",
    "from crime_patterns.analysis import point_patterns \n",
    "\n",
    "%load_ext autoreload\n",
    "%autoreload 2"
   ]
  },
  {
   "cell_type": "code",
   "execution_count": 2,
   "metadata": {},
   "outputs": [],
   "source": [
    "src = config.SRC\n",
    "bld = config.BLD\n",
    "data_raw = src / \"data\"\n",
    "data_clean = bld / \"python\" / \"data\"\n",
    "results_dir = bld / \"python\" / \"results\" \n",
    "plots_dir = bld / \"python\" / \"figures\"\n",
    "\n",
    "if not os.path.isdir(results_dir):\n",
    "    os.makedirs(results_dir)\n",
    "\n",
    "if not os.path.isdir(plots_dir):\n",
    "    os.makedirs(plots_dir)"
   ]
  },
  {
   "cell_type": "code",
   "execution_count": 3,
   "metadata": {},
   "outputs": [],
   "source": [
    "## define paths\n",
    "shapefiles_dir = os.path.join(data_raw, \"statistical-gis-boundaries-london\", \"statistical-gis-boundaries-london\", \"ESRI\")\n",
    "london_ward_shp_path = os.path.join(shapefiles_dir, \"London_Ward.shp\")\n",
    "london_borough_shp_path = os.path.join(shapefiles_dir, \"London_Borough_Excluding_MHW.shp\")\n",
    "london_lsoa_shp_path = os.path.join(shapefiles_dir, \"LSOA_2011_London_gen_MHW.shp\")\n",
    "london_greater_area_shp_path = os.path.join(data_clean,  \"Greater_London_Area.shp\")\n",
    "\n",
    "crime_incidences_path = os.path.join(data_clean, r\"city-of-london-burglaries-2019-cleaned.csv\") "
   ]
  },
  {
   "cell_type": "code",
   "execution_count": 4,
   "metadata": {},
   "outputs": [],
   "source": [
    "london_lsoa = gpd.read_file(london_lsoa_shp_path)\n",
    "london_ward = gpd.read_file(london_ward_shp_path)\n",
    "london_borough = gpd.read_file(london_borough_shp_path)\n",
    "london_greater_area = gpd.read_file(london_greater_area_shp_path)"
   ]
  },
  {
   "cell_type": "code",
   "execution_count": 5,
   "metadata": {},
   "outputs": [],
   "source": [
    "## Load data\n",
    "crime_incidences = pd.read_csv(crime_incidences_path)"
   ]
  },
  {
   "cell_type": "markdown",
   "metadata": {},
   "source": [
    "#### Analysis"
   ]
  },
  {
   "cell_type": "code",
   "execution_count": 16,
   "metadata": {},
   "outputs": [],
   "source": [
    "densities = point_patterns.evaluate_hotspots(longitudes=crime_incidences[\"Longitude\"], latitudes=crime_incidences[\"Latitude\"], region=london_greater_area)"
   ]
  },
  {
   "cell_type": "code",
   "execution_count": 17,
   "metadata": {},
   "outputs": [],
   "source": [
    "densities.to_netcdf(os.path.join(results_dir, \"kernel_density_estimates.nc\"), mode='w', format=\"NETCDF4\", engine=\"netcdf4\")"
   ]
  },
  {
   "cell_type": "code",
   "execution_count": 20,
   "metadata": {},
   "outputs": [],
   "source": [
    "with xr.open_dataset(os.path.join(results_dir, \"kernel_density_estimates.nc\")) as densities:\n",
    "    \n",
    "    densities.load()"
   ]
  },
  {
   "cell_type": "code",
   "execution_count": 27,
   "metadata": {},
   "outputs": [],
   "source": [
    "X_coords, Y_coords, densities = densities[\"lon\"].to_numpy(), densities[\"lat\"].to_numpy(), densities[\"densities\"].to_numpy()"
   ]
  },
  {
   "cell_type": "code",
   "execution_count": 30,
   "metadata": {},
   "outputs": [
    {
     "data": {
      "text/plain": [
       "array([[nan, nan, nan, ..., nan, nan, nan],\n",
       "       [nan, nan, nan, ..., nan, nan, nan],\n",
       "       [nan, nan, nan, ..., nan, nan, nan],\n",
       "       ...,\n",
       "       [nan, nan, nan, ..., nan, nan, nan],\n",
       "       [nan, nan, nan, ..., nan, nan, nan],\n",
       "       [nan, nan, nan, ..., nan, nan, nan]])"
      ]
     },
     "execution_count": 30,
     "metadata": {},
     "output_type": "execute_result"
    }
   ],
   "source": [
    "densities"
   ]
  },
  {
   "cell_type": "code",
   "execution_count": null,
   "metadata": {},
   "outputs": [],
   "source": [
    "dbscan = point_patterns.cluster_crime_incidents_dbscan(\n",
    "                        latitudes=crime_incidences[\"Latitude\"],\n",
    "                        longitudes=crime_incidences[\"Longitude\"],\n",
    "                        epsilon=1.5, # km\n",
    "                        min_samples=330,\n",
    "                        )"
   ]
  },
  {
   "cell_type": "code",
   "execution_count": null,
   "metadata": {},
   "outputs": [],
   "source": [
    "labels = dbscan.labels_"
   ]
  },
  {
   "cell_type": "code",
   "execution_count": null,
   "metadata": {},
   "outputs": [],
   "source": [
    "utils.save_object_to_pickle(dbscan, os.path.join(results_dir, \"dbscan.pickle\"))"
   ]
  },
  {
   "cell_type": "code",
   "execution_count": null,
   "metadata": {},
   "outputs": [],
   "source": [
    "dbscan = utils.load_object_from_pickle(os.path.join(results_dir, \"dbscan.pickle\"))"
   ]
  },
  {
   "cell_type": "markdown",
   "metadata": {},
   "source": [
    "#### Plotting"
   ]
  },
  {
   "cell_type": "code",
   "execution_count": null,
   "metadata": {},
   "outputs": [],
   "source": [
    "# Setup figure and axis\n",
    "height = 8\n",
    "width = height*0.75"
   ]
  },
  {
   "cell_type": "code",
   "execution_count": null,
   "metadata": {},
   "outputs": [],
   "source": [
    "fig, ax = plotting.plot_crime_incidents(crime_incidences[\"Longitude\"], crime_incidences[\"Latitude\"], london_borough, figsize=(height, width))\n",
    "\n",
    "plt.suptitle(\"Burglary Incidences 2019\")\n",
    "fig.savefig(os.path.join(plots_dir, 'burglary_incidents.png'), dpi=300, bbox_inches='tight')"
   ]
  },
  {
   "cell_type": "code",
   "execution_count": null,
   "metadata": {},
   "outputs": [],
   "source": [
    "fig, ax, cbar = plotting.plot_hotspots(X_coords, Y_coords, densities, london_borough, figsize=(height, width))\n",
    "\n",
    "cbar.ax.get_yaxis().labelpad = 15\n",
    "cbar.ax.set_ylabel(\"Density (KDE)\", rotation=270)\n",
    "\n",
    "plt.suptitle(\"Burglary Hotspots\")\n",
    "plt.savefig(os.path.join(plots_dir, 'burglary_hotspots.png'), dpi=300, bbox_inches='tight')"
   ]
  },
  {
   "cell_type": "code",
   "execution_count": null,
   "metadata": {},
   "outputs": [],
   "source": [
    "\n",
    "fig, ax = plotting.plot_dbscan_clusters(crime_incidences, labels, london_borough, figsize=(height, width))\n",
    "\n",
    "ax.legend(bbox_to_anchor = (0, 0.5))\n",
    "plt.suptitle(\"Clustered Burglary Incidences (DBCAN)\")\n",
    "\n",
    "fig.savefig(os.path.join(plots_dir, 'burglary_clusters.png'), dpi=300, bbox_inches='tight')"
   ]
  },
  {
   "cell_type": "code",
   "execution_count": null,
   "metadata": {},
   "outputs": [],
   "source": []
  }
 ],
 "metadata": {
  "kernelspec": {
   "display_name": "Python 3.11.0 ('crime_patterns')",
   "language": "python",
   "name": "python3"
  },
  "language_info": {
   "codemirror_mode": {
    "name": "ipython",
    "version": 3
   },
   "file_extension": ".py",
   "mimetype": "text/x-python",
   "name": "python",
   "nbconvert_exporter": "python",
   "pygments_lexer": "ipython3",
   "version": "3.11.0"
  },
  "orig_nbformat": 4,
  "vscode": {
   "interpreter": {
    "hash": "acc30eb8471d1b779298ddd09a89406b1823e8e426ca572cd079d706426a51cb"
   }
  }
 },
 "nbformat": 4,
 "nbformat_minor": 2
}
